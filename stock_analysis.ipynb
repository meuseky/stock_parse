{
 "cells": [
  {
   "cell_type": "code",
   "execution_count": null,
   "metadata": {
    "collapsed": true
   },
   "outputs": [],
   "source": [
    "from src.analysis import index_analysis, stock_analysis, trade_analysis\n",
    "from src.lib.file_io import get_csv_data_by_filename"
   ]
  },
  {
   "cell_type": "code",
   "execution_count": null,
   "metadata": {},
   "outputs": [],
   "source": [
    "index_data = get_csv_data_by_filename(\"sample_data/index_data.csv\")\n",
    "analysis_result = index_analysis(index_data)\n",
    "for line in analysis_result:\n",
    "    print(line)"
   ]
  },
  {
   "cell_type": "code",
   "execution_count": null,
   "metadata": {},
   "outputs": [],
   "source": [
    "stock_data = get_csv_data_by_filename(\"sample_data/stock_data.csv\")\n",
    "analysis_result = stock_analysis(stock_data)\n",
    "for line in analysis_result:\n",
    "    print(line)"
   ]
  },
  {
   "cell_type": "code",
   "execution_count": null,
   "metadata": {},
   "outputs": [],
   "source": [
    "# Get trade data from `trade_data.csv`\n",
    "trade_data = get_csv_data_by_filename(\"sample_data/trade_data.csv\")\n",
    "analysis_result = trade_analysis(trade_data)\n",
    "for line in analysis_result:\n",
    "    print(line)"
   ]
  }
 ],
 "metadata": {
  "kernelspec": {
   "display_name": "Python 3",
   "language": "python",
   "name": "python3"
  },
  "language_info": {
   "codemirror_mode": {
    "name": "ipython",
    "version": 3.0
   },
   "file_extension": ".py",
   "mimetype": "text/x-python",
   "name": "python",
   "nbconvert_exporter": "python",
   "pygments_lexer": "ipython3",
   "version": "3.6.1"
  }
 },
 "nbformat": 4,
 "nbformat_minor": 0
}