{
 "cells": [
  {
   "cell_type": "code",
   "execution_count": 1,
   "metadata": {},
   "outputs": [],
   "source": [
    "from src.analysis import index_analysis, stock_analysis, trade_analysis\n",
    "from src.lib.file_io import get_csv_data_by_name"
   ]
  },
  {
   "cell_type": "code",
   "execution_count": 5,
   "metadata": {},
   "outputs": [
    {
     "name": "stdout",
     "output_type": "stream",
     "text": [
      "GBCE All Share Index: 12.000391\n"
     ]
    }
   ],
   "source": [
    "# Get index data from `index_data.csv`\n",
    "index_file = \"src/sample_data/index_data.csv\"\n",
    "index_data = get_csv_data_by_name(index_file)\n",
    "index_analysis(index_data)"
   ]
  },
  {
   "cell_type": "code",
   "execution_count": 4,
   "metadata": {},
   "outputs": [
    {
     "name": "stdout",
     "output_type": "stream",
     "text": [
      "Symbol: ALE | Dividend Yield: 0.319223 | PE Ratio: 3.132609\n",
      "Symbol: GIN | Dividend Yield: 4.444444 | PE Ratio: 0.056250\n",
      "Symbol: JOE | Dividend Yield: 0.309524 | PE Ratio: 3.230769\n",
      "Symbol: POP | Dividend Yield: 0.666667 | PE Ratio: 1.500000\n",
      "Symbol: TEA | Dividend Yield: 0.000000 | PE Ratio: inf\n"
     ]
    }
   ],
   "source": [
    "# Get stock data from `stock_data.csv`\n",
    "stock_file = \"src/sample_data/stock_data.csv\"\n",
    "stock_data = get_csv_data_by_name(stock_file)\n",
    "stock_analysis(stock_data)"
   ]
  },
  {
   "cell_type": "code",
   "execution_count": 6,
   "metadata": {},
   "outputs": [
    {
     "name": "stdout",
     "output_type": "stream",
     "text": [
      "Symbol: ALE | Volume Weighted Price: 71.023533\n",
      "Symbol: JOE | Volume Weighted Price: 40.513636\n",
      "Symbol: GIN | Volume Weighted Price: 0.970471\n",
      "Symbol: POP | Volume Weighted Price: 12.041499\n",
      "Symbol: TEA | Volume Weighted Price: 15.643359\n"
     ]
    }
   ],
   "source": [
    "# Get trade data from `trade_data.csv`\n",
    "trade_file = \"src/sample_data/trade_data.csv\"\n",
    "trade_data = get_csv_data_by_name(trade_file)\n",
    "trade_analysis(trade_data)"
   ]
  }
 ],
 "metadata": {
  "kernelspec": {
   "display_name": "Python 3",
   "language": "python",
   "name": "python3"
  },
  "language_info": {
   "codemirror_mode": {
    "name": "ipython",
    "version": 3.0
   },
   "file_extension": ".py",
   "mimetype": "text/x-python",
   "name": "python",
   "nbconvert_exporter": "python",
   "pygments_lexer": "ipython3",
   "version": "3.5.2"
  }
 },
 "nbformat": 4,
 "nbformat_minor": 0
}