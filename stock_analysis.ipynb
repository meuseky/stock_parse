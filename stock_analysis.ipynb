{
 "cells": [
  {
   "cell_type": "code",
   "execution_count": 1,
   "metadata": {},
   "outputs": [],
   "source": [
    "from src.analysis import index_analysis, stock_analysis, trade_analysis\n",
    "from src.lib.messages import *\n",
    "from src.lib.file_io import get_csv_data_by_filename"
   ]
  },
  {
   "cell_type": "code",
   "execution_count": 2,
   "metadata": {},
   "outputs": [
    {
     "name": "stdout",
     "output_type": "stream",
     "text": [
      "GBCE All Share Index: 25.019916\n"
     ]
    }
   ],
   "source": [
    "index_data = get_csv_data_by_filename(\"sample_data/index_data.csv\")\n",
    "index = index_analysis(index_data)\n",
    "print(index_string.format(index.gbce_all_share_index()))"
   ]
  },
  {
   "cell_type": "code",
   "execution_count": 3,
   "metadata": {},
   "outputs": [
    {
     "name": "stdout",
     "output_type": "stream",
     "text": [
      "Symbol: ALE | Dividend Yield: 0.319223 | PE Ratio: 3.132609\n",
      "Symbol: GIN | Dividend Yield: 4.444444 | PE Ratio: 0.056250\n",
      "Symbol: JOE | Dividend Yield: 0.309524 | PE Ratio: 3.230769\n",
      "Symbol: POP | Dividend Yield: 0.666667 | PE Ratio: 1.500000\n",
      "Symbol: TEA | Dividend Yield: 0.000000 | PE Ratio: inf\n"
     ]
    }
   ],
   "source": [
    "stock_data = get_csv_data_by_filename(\"sample_data/stock_data.csv\")\n",
    "stock_list = stock_analysis(stock_data)\n",
    "for stock in stock_list:\n",
    "    print(stock_string.format(stock.symbol, stock.dividend_yield(),\n",
    "                              stock.pe_ratio()))"
   ]
  },
  {
   "cell_type": "code",
   "execution_count": 4,
   "metadata": {},
   "outputs": [
    {
     "name": "stdout",
     "output_type": "stream",
     "text": [
      "Symbol: ALE | Volume Weighted Price: inf\n",
      "Symbol: TEA | Volume Weighted Price: inf\n",
      "Symbol: JOE | Volume Weighted Price: inf\n",
      "Symbol: POP | Volume Weighted Price: inf\n",
      "Symbol: GIN | Volume Weighted Price: inf\n"
     ]
    }
   ],
   "source": [
    "# Get trade data from `trade_data.csv`\n",
    "trade_data = get_csv_data_by_filename(\"sample_data/trade_data.csv\")\n",
    "trade_dict = trade_analysis(trade_data)\n",
    "for symbol, trades in trade_dict.items():\n",
    "    print(trade_string.format(symbol, trades.vol_weighted_stock_price()))"
   ]
  }
 ],
 "metadata": {
  "kernelspec": {
   "display_name": "Python 3",
   "language": "python",
   "name": "python3"
  },
  "language_info": {
   "codemirror_mode": {
    "name": "ipython",
    "version": 3
   },
   "file_extension": ".py",
   "mimetype": "text/x-python",
   "name": "python",
   "nbconvert_exporter": "python",
   "pygments_lexer": "ipython3",
   "version": "3.6.1"
  }
 },
 "nbformat": 4,
 "nbformat_minor": 1
}
